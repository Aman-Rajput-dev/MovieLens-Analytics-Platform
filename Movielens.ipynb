{
  "nbformat": 4,
  "nbformat_minor": 0,
  "metadata": {
    "colab": {
      "provenance": []
    },
    "kernelspec": {
      "name": "python3",
      "display_name": "Python 3"
    },
    "language_info": {
      "name": "python"
    }
  },
  "cells": [
    {
      "cell_type": "code",
      "execution_count": null,
      "metadata": {
        "id": "tYeCq4xTUVaT"
      },
      "outputs": [],
      "source": [
        "from pyspark.sql import SparkSession\n",
        "from pyspark.sql.functions import (\n",
        "    col, from_unixtime, year, month, dayofmonth, split, explode, trim, regexp_extract,\n",
        "    when, lower, count as f_count, avg as f_avg, dense_rank, lit\n",
        ")\n",
        "from pyspark.sql.window import Window\n",
        "import os, shutil"
      ]
    },
    {
      "cell_type": "code",
      "source": [
        "USE_GOOGLE_DRIVE = True  # <- set to False if you don't want to mount Drive\n",
        "\n",
        "if USE_GOOGLE_DRIVE:\n",
        "    from google.colab import drive\n",
        "    drive.mount('/content/drive')\n",
        "\n",
        "# Project paths (Drive or local)\n",
        "base = \"/content/drive/MyDrive/moviedw\" if USE_GOOGLE_DRIVE else \"/content/moviedw\"\n",
        "RAW_PATH = f\"{base}/data/raw/ml-1m\"\n",
        "CURATED_PATH = f\"{base}/data/curated\"\n",
        "\n",
        "# Clean old outputs if re-running\n",
        "if os.path.exists(CURATED_PATH):\n",
        "    shutil.rmtree(CURATED_PATH)\n",
        "os.makedirs(RAW_PATH, exist_ok=True)\n",
        "os.makedirs(CURATED_PATH, exist_ok=True)\n",
        "\n",
        "RAW_PATH, CURATED_PATH\n"
      ],
      "metadata": {
        "colab": {
          "base_uri": "https://localhost:8080/"
        },
        "id": "ujfUxX3YUXxi",
        "outputId": "8cf10caa-8148-4398-b854-de91bc1b6351"
      },
      "execution_count": null,
      "outputs": [
        {
          "output_type": "stream",
          "name": "stdout",
          "text": [
            "Drive already mounted at /content/drive; to attempt to forcibly remount, call drive.mount(\"/content/drive\", force_remount=True).\n"
          ]
        },
        {
          "output_type": "execute_result",
          "data": {
            "text/plain": [
              "('/content/drive/MyDrive/moviedw/data/raw/ml-1m',\n",
              " '/content/drive/MyDrive/moviedw/data/curated')"
            ]
          },
          "metadata": {},
          "execution_count": 7
        }
      ]
    },
    {
      "cell_type": "code",
      "source": [
        "# Download MovieLens 1M (approx 5.8MB)\n",
        "!wget -q -O /content/ml-1m.zip http://files.grouplens.org/datasets/movielens/ml-1m.zip\n",
        "\n",
        "# Extract into RAW_PATH\n",
        "!unzip -q /content/ml-1m.zip -d /content\n",
        "\n",
        "# Move files into RAW_PATH\n",
        "!cp -r /content/ml-1m/* \"{RAW_PATH}\"\n",
        "!ls -al \"{RAW_PATH}\"\n"
      ],
      "metadata": {
        "colab": {
          "base_uri": "https://localhost:8080/"
        },
        "id": "SecIFlRjVCLW",
        "outputId": "b21d7cf2-a6b3-4902-ccd4-4afa74dcf711"
      },
      "execution_count": null,
      "outputs": [
        {
          "output_type": "stream",
          "name": "stdout",
          "text": [
            "replace /content/ml-1m/movies.dat? [y]es, [n]o, [A]ll, [N]one, [r]ename: total 24323\n",
            "-rw------- 1 root root   171308 Aug 14 03:55 movies.dat\n",
            "-rw------- 1 root root 24594131 Aug 14 03:55 ratings.dat\n",
            "-rw------- 1 root root     5577 Aug 14 03:55 README\n",
            "-rw------- 1 root root   134368 Aug 14 03:55 users.dat\n"
          ]
        }
      ]
    },
    {
      "cell_type": "code",
      "source": [
        "spark = SparkSession.builder \\\n",
        "    .appName(\"MovieDW-Colab\") \\\n",
        "    .config(\"spark.sql.shuffle.partitions\", \"4\") \\\n",
        "    .getOrCreate()\n",
        "\n",
        "spark.version\n"
      ],
      "metadata": {
        "colab": {
          "base_uri": "https://localhost:8080/",
          "height": 36
        },
        "id": "t1xO108YVEGN",
        "outputId": "6b8812a0-eceb-4268-c417-6a4534f0da80"
      },
      "execution_count": null,
      "outputs": [
        {
          "output_type": "execute_result",
          "data": {
            "text/plain": [
              "'3.5.1'"
            ],
            "application/vnd.google.colaboratory.intrinsic+json": {
              "type": "string"
            }
          },
          "metadata": {},
          "execution_count": 9
        }
      ]
    },
    {
      "cell_type": "code",
      "source": [
        "from pyspark.sql.types import StructType, StructField, IntegerType, StringType, LongType\n",
        "\n",
        "# --- Read ratings.dat ---\n",
        "# Format: UserID::MovieID::Rating::Timestamp\n",
        "ratings_raw = spark.read.text(f\"{RAW_PATH}/ratings.dat\")\n",
        "ratings = ratings_raw.select(\n",
        "    split(col(\"value\"), \"::\").getItem(0).cast(\"int\").alias(\"user_id\"),\n",
        "    split(col(\"value\"), \"::\").getItem(1).cast(\"int\").alias(\"movie_id\"),\n",
        "    split(col(\"value\"), \"::\").getItem(2).cast(\"float\").alias(\"rating\"),\n",
        "    split(col(\"value\"), \"::\").getItem(3).cast(\"long\").alias(\"ts\")\n",
        ")\n",
        "\n",
        "# --- Read users.dat ---\n",
        "# Format: UserID::Gender::Age::Occupation::Zip-code\n",
        "users_raw = spark.read.text(f\"{RAW_PATH}/users.dat\")\n",
        "users = users_raw.select(\n",
        "    split(col(\"value\"), \"::\").getItem(0).cast(\"int\").alias(\"user_id\"),\n",
        "    split(col(\"value\"), \"::\").getItem(1).alias(\"gender\"),\n",
        "    split(col(\"value\"), \"::\").getItem(2).cast(\"int\").alias(\"age_code\"),\n",
        "    split(col(\"value\"), \"::\").getItem(3).cast(\"int\").alias(\"occupation_code\"),\n",
        "    split(col(\"value\"), \"::\").getItem(4).alias(\"zip_code\")\n",
        ")\n",
        "\n",
        "# --- Read movies.dat ---\n",
        "# Format: MovieID::Title::Genres (pipe-separated)\n",
        "movies_raw = spark.read.text(f\"{RAW_PATH}/movies.dat\")\n",
        "movies = movies_raw.select(\n",
        "    split(col(\"value\"), \"::\").getItem(0).cast(\"int\").alias(\"movie_id\"),\n",
        "    split(col(\"value\"), \"::\").getItem(1).alias(\"title\"),\n",
        "    split(col(\"value\"), \"::\").getItem(2).alias(\"genres\")\n",
        ")\n",
        "\n",
        "ratings.show(5, truncate=False)\n",
        "users.show(5, truncate=False)\n",
        "movies.show(5, truncate=False)\n"
      ],
      "metadata": {
        "colab": {
          "base_uri": "https://localhost:8080/"
        },
        "id": "VvCG_BlSVJ9L",
        "outputId": "ac819d21-3290-42da-9ab0-5bd3e71a2ac7"
      },
      "execution_count": null,
      "outputs": [
        {
          "output_type": "stream",
          "name": "stdout",
          "text": [
            "+-------+--------+------+---------+\n",
            "|user_id|movie_id|rating|ts       |\n",
            "+-------+--------+------+---------+\n",
            "|1      |1193    |5.0   |978300760|\n",
            "|1      |661     |3.0   |978302109|\n",
            "|1      |914     |3.0   |978301968|\n",
            "|1      |3408    |4.0   |978300275|\n",
            "|1      |2355    |5.0   |978824291|\n",
            "+-------+--------+------+---------+\n",
            "only showing top 5 rows\n",
            "\n",
            "+-------+------+--------+---------------+--------+\n",
            "|user_id|gender|age_code|occupation_code|zip_code|\n",
            "+-------+------+--------+---------------+--------+\n",
            "|1      |F     |1       |10             |48067   |\n",
            "|2      |M     |56      |16             |70072   |\n",
            "|3      |M     |25      |15             |55117   |\n",
            "|4      |M     |45      |7              |02460   |\n",
            "|5      |M     |25      |20             |55455   |\n",
            "+-------+------+--------+---------------+--------+\n",
            "only showing top 5 rows\n",
            "\n",
            "+--------+----------------------------------+----------------------------+\n",
            "|movie_id|title                             |genres                      |\n",
            "+--------+----------------------------------+----------------------------+\n",
            "|1       |Toy Story (1995)                  |Animation|Children's|Comedy |\n",
            "|2       |Jumanji (1995)                    |Adventure|Children's|Fantasy|\n",
            "|3       |Grumpier Old Men (1995)           |Comedy|Romance              |\n",
            "|4       |Waiting to Exhale (1995)          |Comedy|Drama                |\n",
            "|5       |Father of the Bride Part II (1995)|Comedy                      |\n",
            "+--------+----------------------------------+----------------------------+\n",
            "only showing top 5 rows\n",
            "\n"
          ]
        }
      ]
    },
    {
      "cell_type": "code",
      "source": [
        "# Ratings: timestamp -> rating_ts, year/month/day\n",
        "ratings_ts = ratings.withColumn(\"rating_ts\", from_unixtime(col(\"ts\")).cast(\"timestamp\")) \\\n",
        "    .withColumn(\"year\", year(col(\"rating_ts\"))) \\\n",
        "    .withColumn(\"month\", month(col(\"rating_ts\"))) \\\n",
        "    .withColumn(\"day\", dayofmonth(col(\"rating_ts\")))\n",
        "\n",
        "# Movies: extract release_year from title e.g., \"Toy Story (1995)\"\n",
        "release_year = regexp_extract(col(\"title\"), r\"\\((\\d{4})\\)\\s*$\", 1).cast(\"int\")\n",
        "movies_clean = movies.withColumn(\"release_year\", release_year)\n",
        "\n",
        "# Explode genres\n",
        "movies_genres = movies_clean.withColumn(\"genre\", explode(split(col(\"genres\"), r\"\\|\"))) \\\n",
        "                            .withColumn(\"genre\", trim(col(\"genre\")))\n",
        "\n",
        "movies_clean.select(\"movie_id\",\"title\",\"release_year\").show(5, truncate=False)\n",
        "movies_genres.select(\"movie_id\",\"genre\").show(5, truncate=False)\n"
      ],
      "metadata": {
        "colab": {
          "base_uri": "https://localhost:8080/"
        },
        "id": "icYwvFgAVRI-",
        "outputId": "e5160a4a-238a-460a-ddc1-2bfccee8f4d5"
      },
      "execution_count": null,
      "outputs": [
        {
          "output_type": "stream",
          "name": "stdout",
          "text": [
            "+--------+----------------------------------+------------+\n",
            "|movie_id|title                             |release_year|\n",
            "+--------+----------------------------------+------------+\n",
            "|1       |Toy Story (1995)                  |1995        |\n",
            "|2       |Jumanji (1995)                    |1995        |\n",
            "|3       |Grumpier Old Men (1995)           |1995        |\n",
            "|4       |Waiting to Exhale (1995)          |1995        |\n",
            "|5       |Father of the Bride Part II (1995)|1995        |\n",
            "+--------+----------------------------------+------------+\n",
            "only showing top 5 rows\n",
            "\n",
            "+--------+----------+\n",
            "|movie_id|genre     |\n",
            "+--------+----------+\n",
            "|1       |Animation |\n",
            "|1       |Children's|\n",
            "|1       |Comedy    |\n",
            "|2       |Adventure |\n",
            "|2       |Children's|\n",
            "+--------+----------+\n",
            "only showing top 5 rows\n",
            "\n"
          ]
        }
      ]
    },
    {
      "cell_type": "code",
      "source": [
        "dim_movie_genres.show(10)"
      ],
      "metadata": {
        "colab": {
          "base_uri": "https://localhost:8080/"
        },
        "id": "J6dTKTjcuXIR",
        "outputId": "28d676ea-47ad-445b-fef2-8360c289cb7c"
      },
      "execution_count": null,
      "outputs": [
        {
          "output_type": "stream",
          "name": "stdout",
          "text": [
            "+--------+--------+\n",
            "|movie_id|genre_id|\n",
            "+--------+--------+\n",
            "|       2|       9|\n",
            "|       6|       1|\n",
            "|       6|       6|\n",
            "|       7|       5|\n",
            "|       7|      14|\n",
            "|      10|       1|\n",
            "|      13|       3|\n",
            "|      13|       4|\n",
            "|      15|       1|\n",
            "|      15|       2|\n",
            "+--------+--------+\n",
            "only showing top 10 rows\n",
            "\n"
          ]
        }
      ]
    },
    {
      "cell_type": "code",
      "source": [
        "# --- dim_movies ---\n",
        "dim_movies = movies_clean.select(\"movie_id\",\"title\",\"release_year\").dropDuplicates([\"movie_id\"])\n",
        "\n",
        "# --- dim_users ---\n",
        "# Age codes in ML-1M: {1, 18, 25, 35, 45, 50, 56}\n",
        "dim_users = users.select(\"user_id\",\"gender\",\"age_code\",\"occupation_code\",\"zip_code\").dropDuplicates([\"user_id\"])\n",
        "\n",
        "dim_users = dim_users.withColumn(\n",
        "    \"age_bucket\",\n",
        "    when(col(\"age_code\") == 1,  \"Under 18\")\n",
        "    .when(col(\"age_code\") == 18, \"18-24\")\n",
        "    .when(col(\"age_code\") == 25, \"25-34\")\n",
        "    .when(col(\"age_code\") == 35, \"35-44\")\n",
        "    .when(col(\"age_code\") == 45, \"45-49\")\n",
        "    .when(col(\"age_code\") == 50, \"50-55\")\n",
        "    .when(col(\"age_code\") == 56, \"56+\")\n",
        "    .otherwise(lit(\"Unknown\"))\n",
        ")\n",
        "\n",
        "# --- dim_genres ---\n",
        "dim_genres_base = movies_genres.select(\"genre\").where(col(\"genre\").isNotNull()).dropDuplicates()\n",
        "w = Window.orderBy(col(\"genre\").asc())\n",
        "dim_genres = dim_genres_base.withColumn(\"genre_id\", dense_rank().over(w)) \\\n",
        "                            .select(\"genre_id\",\"genre\")\n",
        "\n",
        "# --- dim_movie_genres ---\n",
        "dim_movie_genres = movies_genres.select(\"movie_id\",\"genre\").dropDuplicates() \\\n",
        "    .join(dim_genres, on=\"genre\", how=\"left\") \\\n",
        "    .select(\"movie_id\",\"genre_id\")\n"
      ],
      "metadata": {
        "id": "DsrPTyKbVWyG"
      },
      "execution_count": null,
      "outputs": []
    },
    {
      "cell_type": "code",
      "source": [
        "fact_ratings = ratings_ts.select(\n",
        "    \"user_id\",\"movie_id\",\"rating\",\"rating_ts\",\"year\",\"month\",\"day\"\n",
        ")\n",
        "fact_ratings.printSchema()\n",
        "fact_ratings.show(5, truncate=False)\n"
      ],
      "metadata": {
        "colab": {
          "base_uri": "https://localhost:8080/"
        },
        "id": "XeVXOePRVZRL",
        "outputId": "97bb645f-39b8-4f45-8713-2c29bf517783"
      },
      "execution_count": null,
      "outputs": [
        {
          "output_type": "stream",
          "name": "stdout",
          "text": [
            "root\n",
            " |-- user_id: integer (nullable = true)\n",
            " |-- movie_id: integer (nullable = true)\n",
            " |-- rating: float (nullable = true)\n",
            " |-- rating_ts: timestamp (nullable = true)\n",
            " |-- year: integer (nullable = true)\n",
            " |-- month: integer (nullable = true)\n",
            " |-- day: integer (nullable = true)\n",
            "\n",
            "+-------+--------+------+-------------------+----+-----+---+\n",
            "|user_id|movie_id|rating|rating_ts          |year|month|day|\n",
            "+-------+--------+------+-------------------+----+-----+---+\n",
            "|1      |1193    |5.0   |2000-12-31 22:12:40|2000|12   |31 |\n",
            "|1      |661     |3.0   |2000-12-31 22:35:09|2000|12   |31 |\n",
            "|1      |914     |3.0   |2000-12-31 22:32:48|2000|12   |31 |\n",
            "|1      |3408    |4.0   |2000-12-31 22:04:35|2000|12   |31 |\n",
            "|1      |2355    |5.0   |2001-01-06 23:38:11|2001|1    |6  |\n",
            "+-------+--------+------+-------------------+----+-----+---+\n",
            "only showing top 5 rows\n",
            "\n"
          ]
        }
      ]
    },
    {
      "cell_type": "code",
      "source": [
        "DIM_MOVIES_PATH = f\"{CURATED_PATH}/dim_movies\"\n",
        "DIM_USERS_PATH = f\"{CURATED_PATH}/dim_users\"\n",
        "DIM_GENRES_PATH = f\"{CURATED_PATH}/dim_genres\"\n",
        "DIM_MOVIE_GENRES_PATH = f\"{CURATED_PATH}/dim_movie_genres\"\n",
        "FACT_RATINGS_PATH = f\"{CURATED_PATH}/fact_ratings\"\n",
        "\n",
        "dim_movies.write.mode(\"overwrite\").parquet(DIM_MOVIES_PATH)\n",
        "dim_users.write.mode(\"overwrite\").parquet(DIM_USERS_PATH)\n",
        "dim_genres.write.mode(\"overwrite\").parquet(DIM_GENRES_PATH)\n",
        "dim_movie_genres.write.mode(\"overwrite\").parquet(DIM_MOVIE_GENRES_PATH)\n",
        "\n",
        "# Partition fact by year/month for faster time filtering\n",
        "fact_ratings.write.mode(\"overwrite\").partitionBy(\"year\",\"month\").parquet(FACT_RATINGS_PATH)\n",
        "\n",
        "!find \"{CURATED_PATH}\" -maxdepth 2 -type d -print\n"
      ],
      "metadata": {
        "colab": {
          "base_uri": "https://localhost:8080/"
        },
        "id": "fKd8KPuoVbwl",
        "outputId": "75f7f717-021a-4df2-f06a-c747545c7da4"
      },
      "execution_count": null,
      "outputs": [
        {
          "output_type": "stream",
          "name": "stdout",
          "text": [
            "/content/drive/MyDrive/moviedw/data/curated\n",
            "/content/drive/MyDrive/moviedw/data/curated/dim_movies\n",
            "/content/drive/MyDrive/moviedw/data/curated/dim_users\n",
            "/content/drive/MyDrive/moviedw/data/curated/dim_genres\n",
            "/content/drive/MyDrive/moviedw/data/curated/dim_movie_genres\n",
            "/content/drive/MyDrive/moviedw/data/curated/fact_ratings\n",
            "/content/drive/MyDrive/moviedw/data/curated/fact_ratings/year=2000\n",
            "/content/drive/MyDrive/moviedw/data/curated/fact_ratings/year=2001\n",
            "/content/drive/MyDrive/moviedw/data/curated/fact_ratings/year=2002\n",
            "/content/drive/MyDrive/moviedw/data/curated/fact_ratings/year=2003\n"
          ]
        }
      ]
    },
    {
      "cell_type": "code",
      "source": [
        "dim_movies_v = spark.read.parquet(DIM_MOVIES_PATH)\n",
        "dim_users_v = spark.read.parquet(DIM_USERS_PATH)\n",
        "dim_genres_v = spark.read.parquet(DIM_GENRES_PATH)\n",
        "dim_movie_genres_v = spark.read.parquet(DIM_MOVIE_GENRES_PATH)\n",
        "fact_ratings_v = spark.read.parquet(FACT_RATINGS_PATH)\n",
        "\n",
        "dim_movies_v.createOrReplaceTempView(\"dim_movies\")\n",
        "dim_users_v.createOrReplaceTempView(\"dim_users\")\n",
        "dim_genres_v.createOrReplaceTempView(\"dim_genres\")\n",
        "dim_movie_genres_v.createOrReplaceTempView(\"dim_movie_genres\")\n",
        "fact_ratings_v.createOrReplaceTempView(\"fact_ratings\")\n",
        "\n",
        "# Quick row counts\n",
        "for t in [\"dim_movies\",\"dim_users\",\"dim_genres\",\"dim_movie_genres\",\"fact_ratings\"]:\n",
        "    print(t, spark.sql(f\"SELECT COUNT(*) cnt FROM {t}\").collect()[0][\"cnt\"])\n"
      ],
      "metadata": {
        "colab": {
          "base_uri": "https://localhost:8080/"
        },
        "id": "ss8f0Ha6Vv8H",
        "outputId": "1a1c2435-e574-48f7-dceb-601e1715f0f8"
      },
      "execution_count": null,
      "outputs": [
        {
          "output_type": "stream",
          "name": "stdout",
          "text": [
            "dim_movies 3883\n",
            "dim_users 6040\n",
            "dim_genres 18\n",
            "dim_movie_genres 6408\n",
            "fact_ratings 1000209\n"
          ]
        }
      ]
    },
    {
      "cell_type": "code",
      "source": [
        "spark.sql(\"\"\"\n",
        "WITH agg AS (\n",
        "  SELECT movie_id, AVG(rating) AS avg_rating, COUNT(*) AS cnt\n",
        "  FROM fact_ratings\n",
        "  GROUP BY movie_id\n",
        ")\n",
        "SELECT m.title, a.avg_rating, a.cnt\n",
        "FROM agg a\n",
        "JOIN dim_movies m ON a.movie_id = m.movie_id\n",
        "WHERE a.cnt >= 100\n",
        "ORDER BY a.avg_rating DESC, a.cnt DESC\n",
        "LIMIT 10\n",
        "\"\"\").show(truncate=False)\n"
      ],
      "metadata": {
        "colab": {
          "base_uri": "https://localhost:8080/"
        },
        "id": "daSzLJPuV1zv",
        "outputId": "f8471ee7-5d1a-4713-9c90-735babff6290"
      },
      "execution_count": null,
      "outputs": [
        {
          "output_type": "stream",
          "name": "stdout",
          "text": [
            "+-------------------------------------------------------------------+-----------------+----+\n",
            "|title                                                              |avg_rating       |cnt |\n",
            "+-------------------------------------------------------------------+-----------------+----+\n",
            "|Seven Samurai (The Magnificent Seven) (Shichinin no samurai) (1954)|4.560509554140127|628 |\n",
            "|Shawshank Redemption, The (1994)                                   |4.554557700942973|2227|\n",
            "|Godfather, The (1972)                                              |4.524966261808367|2223|\n",
            "|Close Shave, A (1995)                                              |4.52054794520548 |657 |\n",
            "|Usual Suspects, The (1995)                                         |4.517106001121705|1783|\n",
            "|Schindler's List (1993)                                            |4.510416666666667|2304|\n",
            "|Wrong Trousers, The (1993)                                         |4.507936507936508|882 |\n",
            "|Sunset Blvd. (a.k.a. Sunset Boulevard) (1950)                      |4.491489361702127|470 |\n",
            "|Raiders of the Lost Ark (1981)                                     |4.477724741447892|2514|\n",
            "|Rear Window (1954)                                                 |4.476190476190476|1050|\n",
            "+-------------------------------------------------------------------+-----------------+----+\n",
            "\n"
          ]
        }
      ]
    },
    {
      "cell_type": "code",
      "source": [
        "spark.sql(\"\"\"\n",
        "SELECT g.genre,\n",
        "       fr.year,\n",
        "       COUNT(*) AS ratings_cnt\n",
        "FROM fact_ratings fr\n",
        "JOIN dim_movie_genres mg ON fr.movie_id = mg.movie_id\n",
        "JOIN dim_genres g ON mg.genre_id = g.genre_id\n",
        "GROUP BY g.genre, fr.year\n",
        "ORDER BY fr.year, g.genre\n",
        "\"\"\").show(50, truncate=False)\n"
      ],
      "metadata": {
        "colab": {
          "base_uri": "https://localhost:8080/"
        },
        "id": "uZrKXyjhV4OJ",
        "outputId": "c1b6c7bc-5d1f-487f-b92d-1e5b040b8254"
      },
      "execution_count": null,
      "outputs": [
        {
          "output_type": "stream",
          "name": "stdout",
          "text": [
            "+-----------+----+-----------+\n",
            "|genre      |year|ratings_cnt|\n",
            "+-----------+----+-----------+\n",
            "|Action     |2000|238212     |\n",
            "|Adventure  |2000|124112     |\n",
            "|Animation  |2000|38951      |\n",
            "|Children's |2000|65130      |\n",
            "|Comedy     |2000|321496     |\n",
            "|Crime      |2000|72632      |\n",
            "|Documentary|2000|6941       |\n",
            "|Drama      |2000|318840     |\n",
            "|Fantasy    |2000|33564      |\n",
            "|Film-Noir  |2000|16898      |\n",
            "|Horror     |2000|69916      |\n",
            "|Musical    |2000|37458      |\n",
            "|Mystery    |2000|36681      |\n",
            "|Romance    |2000|133796     |\n",
            "|Sci-Fi     |2000|146085     |\n",
            "|Thriller   |2000|172903     |\n",
            "|War        |2000|63456      |\n",
            "|Western    |2000|19043      |\n",
            "|Action     |2001|14021      |\n",
            "|Adventure  |2001|7055       |\n",
            "|Animation  |2001|3301       |\n",
            "|Children's |2001|5228       |\n",
            "|Comedy     |2001|25136      |\n",
            "|Crime      |2001|5010       |\n",
            "|Documentary|2001|663        |\n",
            "|Drama      |2001|25226      |\n",
            "|Fantasy    |2001|1885       |\n",
            "|Film-Noir  |2001|963        |\n",
            "|Horror     |2001|4526       |\n",
            "|Musical    |2001|2973       |\n",
            "|Mystery    |2001|2516       |\n",
            "|Romance    |2001|9651       |\n",
            "|Sci-Fi     |2001|7842       |\n",
            "|Thriller   |2001|12226      |\n",
            "|War        |2001|3581       |\n",
            "|Western    |2001|1096       |\n",
            "|Action     |2002|4553       |\n",
            "|Adventure  |2002|2436       |\n",
            "|Animation  |2002|944        |\n",
            "|Children's |2002|1636       |\n",
            "|Comedy     |2002|8685       |\n",
            "|Crime      |2002|1648       |\n",
            "|Documentary|2002|245        |\n",
            "|Drama      |2002|9210       |\n",
            "|Fantasy    |2002|743        |\n",
            "|Film-Noir  |2002|345        |\n",
            "|Horror     |2002|1740       |\n",
            "|Musical    |2002|965        |\n",
            "|Mystery    |2002|877        |\n",
            "|Romance    |2002|3576       |\n",
            "+-----------+----+-----------+\n",
            "only showing top 50 rows\n",
            "\n"
          ]
        }
      ]
    },
    {
      "cell_type": "code",
      "source": [
        "spark.sql(\"\"\"\n",
        "SELECT u.user_id, u.gender, u.age_bucket, COUNT(*) AS ratings_cnt\n",
        "FROM fact_ratings fr\n",
        "JOIN dim_users u ON fr.user_id = u.user_id\n",
        "GROUP BY u.user_id, u.gender, u.age_bucket\n",
        "ORDER BY ratings_cnt DESC\n",
        "LIMIT 10\n",
        "\"\"\").show(truncate=False)\n"
      ],
      "metadata": {
        "colab": {
          "base_uri": "https://localhost:8080/"
        },
        "id": "XkOHDDenV7aT",
        "outputId": "b304f6b3-2b3c-4927-dd5e-beca14dbf44e"
      },
      "execution_count": null,
      "outputs": [
        {
          "output_type": "stream",
          "name": "stdout",
          "text": [
            "+-------+------+----------+-----------+\n",
            "|user_id|gender|age_bucket|ratings_cnt|\n",
            "+-------+------+----------+-----------+\n",
            "|4169   |M     |50-55     |2314       |\n",
            "|1680   |M     |25-34     |1850       |\n",
            "|4277   |M     |35-44     |1743       |\n",
            "|1941   |M     |35-44     |1595       |\n",
            "|1181   |M     |35-44     |1521       |\n",
            "|889    |M     |45-49     |1518       |\n",
            "|3618   |M     |56+       |1344       |\n",
            "|2063   |M     |25-34     |1323       |\n",
            "|1150   |F     |25-34     |1302       |\n",
            "|1015   |M     |35-44     |1286       |\n",
            "+-------+------+----------+-----------+\n",
            "\n"
          ]
        }
      ]
    },
    {
      "cell_type": "code",
      "source": [
        "spark.sql(\"\"\"\n",
        "WITH agg AS (\n",
        "  SELECT movie_id, COUNT(*) AS cnt, AVG(rating) AS avg_rating\n",
        "  FROM fact_ratings\n",
        "  GROUP BY movie_id\n",
        "),\n",
        "filtered AS (\n",
        "  SELECT movie_id, cnt, avg_rating\n",
        "  FROM agg\n",
        "  WHERE cnt >= 300\n",
        ")\n",
        "SELECT m.title, f.cnt, ROUND(f.avg_rating, 3) AS avg_rating\n",
        "FROM filtered f\n",
        "JOIN dim_movies m ON f.movie_id = m.movie_id\n",
        "ORDER BY f.cnt DESC, f.avg_rating DESC\n",
        "LIMIT 15\n",
        "\"\"\").show(truncate=False)\n"
      ],
      "metadata": {
        "colab": {
          "base_uri": "https://localhost:8080/"
        },
        "id": "0fsW951jV9dw",
        "outputId": "126268ed-2723-42a2-d881-294f0bff97a2"
      },
      "execution_count": null,
      "outputs": [
        {
          "output_type": "stream",
          "name": "stdout",
          "text": [
            "+-----------------------------------------------------+----+----------+\n",
            "|title                                                |cnt |avg_rating|\n",
            "+-----------------------------------------------------+----+----------+\n",
            "|American Beauty (1999)                               |3428|4.317     |\n",
            "|Star Wars: Episode IV - A New Hope (1977)            |2991|4.454     |\n",
            "|Star Wars: Episode V - The Empire Strikes Back (1980)|2990|4.293     |\n",
            "|Star Wars: Episode VI - Return of the Jedi (1983)    |2883|4.023     |\n",
            "|Jurassic Park (1993)                                 |2672|3.764     |\n",
            "|Saving Private Ryan (1998)                           |2653|4.337     |\n",
            "|Terminator 2: Judgment Day (1991)                    |2649|4.059     |\n",
            "|Matrix, The (1999)                                   |2590|4.316     |\n",
            "|Back to the Future (1985)                            |2583|3.99      |\n",
            "|Silence of the Lambs, The (1991)                     |2578|4.352     |\n",
            "|Men in Black (1997)                                  |2538|3.74      |\n",
            "|Raiders of the Lost Ark (1981)                       |2514|4.478     |\n",
            "|Fargo (1996)                                         |2513|4.255     |\n",
            "|Sixth Sense, The (1999)                              |2459|4.406     |\n",
            "|Braveheart (1995)                                    |2443|4.235     |\n",
            "+-----------------------------------------------------+----+----------+\n",
            "\n"
          ]
        }
      ]
    },
    {
      "cell_type": "code",
      "source": [
        "# Nulls in critical keys\n",
        "spark.sql(\"\"\"\n",
        "SELECT\n",
        "  SUM(CASE WHEN user_id  IS NULL THEN 1 ELSE 0 END) AS null_users,\n",
        "  SUM(CASE WHEN movie_id IS NULL THEN 1 ELSE 0 END) AS null_movies,\n",
        "  SUM(CASE WHEN rating   IS NULL THEN 1 ELSE 0 END) AS null_ratings\n",
        "FROM fact_ratings\n",
        "\"\"\").show()\n",
        "\n",
        "# Ratings range sanity\n",
        "spark.sql(\"\"\"\n",
        "SELECT MIN(rating) AS min_rating, MAX(rating) AS max_rating\n",
        "FROM fact_ratings\n",
        "\"\"\").show()\n",
        "\n",
        "# Orphans: movie IDs in fact not in dim_movies (should be 0)\n",
        "spark.sql(\"\"\"\n",
        "SELECT COUNT(*) AS orphans\n",
        "FROM fact_ratings fr\n",
        "LEFT JOIN dim_movies dm ON fr.movie_id = dm.movie_id\n",
        "WHERE dm.movie_id IS NULL\n",
        "\"\"\").show()\n"
      ],
      "metadata": {
        "colab": {
          "base_uri": "https://localhost:8080/"
        },
        "id": "dRMeCLNOWAWX",
        "outputId": "6aed14af-fafa-4cd2-f0ff-2ec753273731"
      },
      "execution_count": null,
      "outputs": [
        {
          "output_type": "stream",
          "name": "stdout",
          "text": [
            "+----------+-----------+------------+\n",
            "|null_users|null_movies|null_ratings|\n",
            "+----------+-----------+------------+\n",
            "|         0|          0|           0|\n",
            "+----------+-----------+------------+\n",
            "\n",
            "+----------+----------+\n",
            "|min_rating|max_rating|\n",
            "+----------+----------+\n",
            "|       1.0|       5.0|\n",
            "+----------+----------+\n",
            "\n",
            "+-------+\n",
            "|orphans|\n",
            "+-------+\n",
            "|      0|\n",
            "+-------+\n",
            "\n"
          ]
        }
      ]
    },
    {
      "cell_type": "code",
      "source": [
        "from pyspark.ml.recommendation import ALS\n",
        "from pyspark.ml.evaluation import RegressionEvaluator\n",
        "\n",
        "# Prepare data (ALS expects columns: userCol, itemCol, ratingCol)\n",
        "als_data = fact_ratings_v.select(\"user_id\",\"movie_id\",\"rating\")\n",
        "\n",
        "# Train/validation split\n",
        "train, test = als_data.randomSplit([0.8, 0.2], seed=42)\n",
        "\n",
        "als = ALS(\n",
        "    userCol=\"user_id\",\n",
        "    itemCol=\"movie_id\",\n",
        "    ratingCol=\"rating\",\n",
        "    rank=20,\n",
        "    maxIter=10,\n",
        "    regParam=0.1,\n",
        "    nonnegative=True,\n",
        "    coldStartStrategy=\"drop\"  # drop NaN predictions\n",
        ")\n",
        "\n",
        "model = als.fit(train)\n",
        "pred = model.transform(test)\n",
        "\n",
        "rmse = RegressionEvaluator(metricName=\"rmse\", labelCol=\"rating\", predictionCol=\"prediction\").evaluate(pred)\n",
        "print(\"ALS RMSE:\", rmse)\n",
        "\n",
        "# Top-N recommendations for a few users\n",
        "user_recs = model.recommendForAllUsers(5)\n",
        "user_recs.show(5, truncate=False)\n"
      ],
      "metadata": {
        "colab": {
          "base_uri": "https://localhost:8080/"
        },
        "id": "tFG-3VKwWGKc",
        "outputId": "dd252744-cfcd-49d5-f920-4ba817d96ec0"
      },
      "execution_count": null,
      "outputs": [
        {
          "output_type": "stream",
          "name": "stdout",
          "text": [
            "ALS RMSE: 0.8694922546907288\n",
            "+-------+--------------------------------------------------------------------------------------------+\n",
            "|user_id|recommendations                                                                             |\n",
            "+-------+--------------------------------------------------------------------------------------------+\n",
            "|6      |[{572, 5.6633964}, {1035, 4.6103888}, {3233, 4.594942}, {1741, 4.535442}, {3853, 4.4642057}]|\n",
            "|9      |[{572, 4.897166}, {318, 4.4288607}, {1851, 4.334844}, {50, 4.319377}, {2905, 4.284457}]     |\n",
            "|12     |[{2309, 4.7400374}, {572, 4.70445}, {296, 4.556843}, {858, 4.5508604}, {557, 4.462086}]     |\n",
            "|13     |[{572, 4.8418674}, {260, 4.0196233}, {3233, 4.011985}, {318, 3.9945614}, {1198, 3.9881265}] |\n",
            "|14     |[{572, 4.4262624}, {53, 4.102438}, {527, 3.9698455}, {2324, 3.9610052}, {2964, 3.9488091}]  |\n",
            "+-------+--------------------------------------------------------------------------------------------+\n",
            "only showing top 5 rows\n",
            "\n"
          ]
        }
      ]
    }
  ]
}